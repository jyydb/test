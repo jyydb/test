{
 "cells": [
  {
   "cell_type": "code",
   "execution_count": 1,
   "metadata": {},
   "outputs": [
    {
     "name": "stdout",
     "output_type": "stream",
     "text": [
      "1.21.6\n"
     ]
    }
   ],
   "source": [
    "import numpy as np\n",
    "print(np.__version__)"
   ]
  },
  {
   "cell_type": "code",
   "execution_count": 3,
   "metadata": {},
   "outputs": [
    {
     "name": "stdout",
     "output_type": "stream",
     "text": [
      "[1 3 2 4]\n",
      "<class 'numpy.ndarray'>\n",
      "4\n",
      "1\n",
      "4\n",
      "[4 2 3 1]\n"
     ]
    }
   ],
   "source": [
    "a = np.array([1,3,2,4 ])\n",
    "print(a)\n",
    "\n",
    "#列表支持的操作\n",
    "\n",
    "print(type(a)) #打印数据类型\n",
    "print(a.max()) #打印最大值\n",
    "print(a.min()) #打印最小值\n",
    "#切片操作\n",
    "print(a[-1]) #取最后一个值\n",
    "print(a[::-1]) #倒序   #ndarray不可以使用reverse\n",
    "a.sort()\n",
    "# print(a)\n"
   ]
  },
  {
   "cell_type": "code",
   "execution_count": null,
   "metadata": {},
   "outputs": [],
   "source": [
    "# narray自己的东西\n",
    "print(a.shape)  #打印形状\n",
    "b = np.array([[2,3,4],[4,5,6]])\n",
    "print(b)  #先行后列\n",
    "print(b.shape)  #打印结果是2行3列(2, 3)\n",
    "c = np.array([[1,2,3],[4,5,6],[7,8,9],[11,12,13]])  #打印结果是4行3列（4,3）\n",
    "print(c.shape)\n",
    "\n",
    "print(b.max(),b.min()) #打印最大、最小值\n",
    "print(b[0][0]) #索引取值  结果是2\n",
    "print(b[1][2])  #结果是6   第 二行第3个元素\n",
    "#切片\n",
    "print(b[1][:]) # : 代表全部\n",
    "print(b[:][0])\n",
    "\n",
    "print(c[2][1]) #第三行第2个元素\n",
    "print(c[:][0])\n",
    "print(c[3][2])\n"
   ]
  },
  {
   "cell_type": "code",
   "execution_count": 1,
   "metadata": {},
   "outputs": [
    {
     "name": "stdout",
     "output_type": "stream",
     "text": [
      "C:\\Users\\金建中\\,\n"
     ]
    }
   ],
   "source": [
    "import  os\n",
    "print(os.path.abspath(','))"
   ]
  },
  {
   "cell_type": "code",
   "execution_count": null,
   "metadata": {},
   "outputs": [],
   "source": []
  }
 ],
 "metadata": {
  "kernelspec": {
   "display_name": "Python 3",
   "language": "python",
   "name": "python3"
  },
  "language_info": {
   "codemirror_mode": {
    "name": "ipython",
    "version": 3
   },
   "file_extension": ".py",
   "mimetype": "text/x-python",
   "name": "python",
   "nbconvert_exporter": "python",
   "pygments_lexer": "ipython3",
   "version": "3.7.0"
  }
 },
 "nbformat": 4,
 "nbformat_minor": 2
}
