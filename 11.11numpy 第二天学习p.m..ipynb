{
 "cells": [
  {
   "cell_type": "code",
   "execution_count": 9,
   "metadata": {},
   "outputs": [
    {
     "name": "stdout",
     "output_type": "stream",
     "text": [
      "[30 45 60]\n",
      "[0.5        0.70710678 0.8660254 ]\n",
      "[0.8660254  0.70710678 0.5       ]\n",
      "[0.8660254  0.70710678 0.5       ]\n",
      "[0.52359878 0.78539816 1.04719755]\n",
      "[1.04719755 0.78539816 0.52359878]\n",
      "[1.04719755 0.78539816 0.52359878]\n",
      "[30. 45. 60.]\n",
      "[60. 45. 30.]\n",
      "[60. 45. 30.]\n"
     ]
    }
   ],
   "source": [
    "\"\"\"\n",
    "数学函数 包含了大量各种数学运算的函数，三角函数，算数函数，复数处理等\n",
    "三角函数 \n",
    "    sin()正弦\n",
    "    cos()余弦\n",
    "    tanc()正切\n",
    "\n",
    "反三角函数 \n",
    "    arcsin()反正弦\n",
    "    arcoss()反余弦 \n",
    "    arctan()反正切\n",
    "\n",
    "反转计算成角度degrees(sin,cos,tan) 返回 角度值\n",
    "\n",
    "\"\"\"\n",
    "import numpy as np\n",
    "a = np.array([30,45,60])\n",
    "print(a)\n",
    "\n",
    "\n",
    "#弧度 = np.pi /180\n",
    "sin_sum = np.sin(a * np.pi / 180)#正弦\n",
    "cos_sum = np.cos(a * np.pi / 180)#余弦\n",
    "\n",
    "#打印 正弦、余弦、正切\n",
    "tan_sum = np.cos(a * np.pi / 180)#正切\n",
    "print(sin_sum)\n",
    "print(cos_sum)\n",
    "print(tan_sum)\n",
    "\n",
    "sin_arg = np.arcsin(sin_sum) #反正弦\n",
    "cos_arg = np.arcsin(cos_sum)#反余弦\n",
    "tan_arg = np.arcsin(tan_sum)#反正切\n",
    "print(sin_arg)\n",
    "print(cos_arg)\n",
    "print(tan_arg)\n",
    "\n",
    "\n",
    "#反转正弦角度，反转余弦角度,反转正切角度\n",
    "print(np.degrees(sin_arg))\n",
    "print(np.degrees(cos_arg))\n",
    "print(np.degrees(tan_arg))"
   ]
  },
  {
   "cell_type": "code",
   "execution_count": 14,
   "metadata": {},
   "outputs": [
    {
     "name": "stdout",
     "output_type": "stream",
     "text": [
      "[20. 31. 59.]\n",
      "<class 'numpy.ndarray'>\n",
      "[20. 30. 59.]\n",
      "[21. 31. 60.]\n"
     ]
    }
   ],
   "source": [
    "\"\"\"\n",
    "舍入函数\n",
    "around函数 四舍五入值 1.数组 2.舍入的小数位：默认0\n",
    "floor函数 向下取整数\n",
    "ceil函数  向上取整数\n",
    "\"\"\"\n",
    "\n",
    "import numpy as np\n",
    "a = np.around([20.3,30.62,59.222]) #四舍五入\n",
    "print(a)\n",
    "print(type(a))\n",
    "b = np.floor([20.3,30.62,59.222]) #向下取整数\n",
    "print(b)\n",
    "c = np.ceil([20.3,30.62,59.222]) #向上取整数\n",
    "print(c)"
   ]
  },
  {
   "cell_type": "code",
   "execution_count": 29,
   "metadata": {},
   "outputs": [
    {
     "name": "stdout",
     "output_type": "stream",
     "text": [
      "[    100   10000 1000000]\n",
      "[        10      10000 1000000000]\n",
      "[4.        0.7518797 1.        0.01     ]\n",
      "[1 0 2]\n"
     ]
    }
   ],
   "source": [
    "\"\"\"\n",
    "算法函数 数组的加减乘除，数组必须具有相同的形状，符合广播规则\n",
    "add() + 加\n",
    "subtract() -减\n",
    "multiply() *乘\n",
    "divide() /c除\n",
    "reciprocal() 倒数，元素的倒数1/4 倒数4/1\n",
    "power() 1.底数 2.幂次方\n",
    "mod() 两数组余数\n",
    "\n",
    "\"\"\"\n",
    "import numpy as np\n",
    "a = np.arange(9,dtype = np.float64).reshape(3,3)\n",
    "b = np.array([10,10,10])\n",
    "# print(np.add(a,b)) #加法\n",
    "# print(np.subtract(a,b)) #减法\n",
    "# print(np.multiply(a,b)) #乘法\n",
    "# print(np.divide(a,b)) #除法\n",
    "\n",
    "##幂次方\n",
    "c = np.array([10,100,1000])\n",
    "print(np.power(c,2)) #幂次方\n",
    "d = np.array([1,2,3])\n",
    "print(np.power(c,d))\n",
    "\n",
    "#倒数\n",
    "e = np.array([0.25,1.33,1,100])\n",
    "print(np.reciprocal(e))\n",
    "\n",
    "#两数组余数\n",
    "num1 = np.array([10,20,30])\n",
    "num2 = np.array([3,5,7])\n",
    "print(np.mod(num1,num2))"
   ]
  },
  {
   "cell_type": "code",
   "execution_count": null,
   "metadata": {},
   "outputs": [],
   "source": []
  },
  {
   "cell_type": "code",
   "execution_count": null,
   "metadata": {},
   "outputs": [],
   "source": []
  }
 ],
 "metadata": {
  "kernelspec": {
   "display_name": "Python 3",
   "language": "python",
   "name": "python3"
  },
  "language_info": {
   "codemirror_mode": {
    "name": "ipython",
    "version": 3
   },
   "file_extension": ".py",
   "mimetype": "text/x-python",
   "name": "python",
   "nbconvert_exporter": "python",
   "pygments_lexer": "ipython3",
   "version": "3.7.0"
  }
 },
 "nbformat": 4,
 "nbformat_minor": 2
}
