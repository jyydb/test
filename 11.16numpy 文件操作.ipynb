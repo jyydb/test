{
 "cells": [
  {
   "cell_type": "code",
   "execution_count": 11,
   "metadata": {},
   "outputs": [
    {
     "data": {
      "text/plain": [
       "'\\nbool_ 布尔型数据类型（True 或者False）\\n\\nint_ 默认的整数类型(类似与C语言中的龙，int32或int64)\\n\\nintc 和C语言的int 类型一样，一般是int32 或int64\\n\\nintp 用于索引的整型(类似与C的ssize_t,通常int32 或int64)\\n\\nfloat_ float64类型的简写\\n\\nfloat16/32/64 半精度浮点数：1个符号位，5个指数位，10个尾数位\\n\\n\\ncoplex_ 复数类型，与complex128类型相同\\n\\nstring 表示字节串类型，也就是bytes 类型\\n\\n\\n'"
      ]
     },
     "execution_count": 11,
     "metadata": {},
     "output_type": "execute_result"
    }
   ],
   "source": [
    "\"\"\"\n",
    "bool_ 布尔型数据类型（True 或者False）\n",
    "\n",
    "int_ 默认的整数类型(类似与C语言中的龙，int32或int64)\n",
    "\n",
    "intc 和C语言的int 类型一样，一般是int32 或int64\n",
    "\n",
    "intp 用于索引的整型(类似与C的ssize_t,通常int32 或int64)\n",
    "\n",
    "float_ float64类型的简写\n",
    "\n",
    "float16/32/64 半精度浮点数：1个符号位，5个指数位，10个尾数位\n",
    "              单精度浮点数：1个符号位，8个指数位，23个位数位\n",
    "        双精度浮点数，包括：1个符号位，11个指位数，52个位数位\n",
    "\n",
    "complex_ 复数类型，与complex128类型相同\n",
    "\n",
    "complex64/128 复数，表示双32位浮点数（实数部分和虚数部分）\n",
    "              复数，表示双64位浮点数（实数部分和虚数部分）\n",
    "              \n",
    "coplex_ 复数类型，与complex128类型相同\n",
    "\n",
    "string 表示字节串类型，也就是bytes 类型\n",
    "\n",
    "int8/32/64  代表与1字节相同的8位整数\n",
    "            代表与2字节相同的16位整数\n",
    "            代表与4字节相同的32位整数\n",
    "            代表与8字节相同的64位整数\n",
    "            \n",
    "            \n",
    "                代表1字节（8位）无符号整型\n",
    "unit8/16/32/64  代表与2字节相同的16位整型\n",
    "                代表与4字节相同的32位整型\n",
    "                代表与8字节相同的64位整型\n",
    "\"\"\""
   ]
  },
  {
   "cell_type": "code",
   "execution_count": 12,
   "metadata": {},
   "outputs": [
    {
     "name": "stdout",
     "output_type": "stream",
     "text": [
      "[1. 2. 3. 4.]\n",
      "[1. 2. 3. 4.]\n",
      "[False  True  True  True  True]\n",
      "['0' '1' '2' '3' '3'] [b'0' b'1' b'2' b'3' b'4']\n",
      "['我们' '1' '2' '3' '4' '5' '6' '88']\n"
     ]
    }
   ],
   "source": [
    "import numpy as np\n",
    "#把数组中的类型转换为浮点型\n",
    "#法1\n",
    "a = np.array([1,2,3,4])\n",
    "b = a.astype(dtype='float_')\n",
    "print(b)\n",
    "#法2\n",
    "a1 = np.array([1,2,3,4],dtype=np.float64)\n",
    "print(a1)\n",
    "\n",
    "#布尔\n",
    "c = np.array([0,1,2,3,4],dtype = np.bool_)\n",
    "print(c)\n",
    "\n",
    "#字符串\n",
    "str1 = np.array([0,1,2,3,3],dtype = np.str)\n",
    "str2 = np.array([0,1,2,3,4],dtype = np.string_)\n",
    "print(str1,str2)\n",
    "str3 = np.array(['我们',1,2,3,4,5,6,88],dtype= np.str_)\n",
    "print(str3)"
   ]
  },
  {
   "cell_type": "code",
   "execution_count": 33,
   "metadata": {},
   "outputs": [
    {
     "data": {
      "text/plain": [
       "'\\n定义结构化数据\\n\\nb 代表布尔型\\nc 浮点型\\nS，a 字符串（S）与 字符串(a)\\ni 带符号整型\\nm 时间间隔\\nU Unicode\\nu 无符号整型\\nM  datatime （日期时间）\\nV 原始数据（void）\\nf 浮点型\\nO Python对象\\n\\n'"
      ]
     },
     "execution_count": 33,
     "metadata": {},
     "output_type": "execute_result"
    }
   ],
   "source": [
    "\"\"\"\n",
    "定义结构化数据\n",
    "\n",
    "b 代表布尔型\n",
    "c 浮点型\n",
    "S，a 字符串（S）与 字符串(a)\n",
    "i 带符号整型\n",
    "m 时间间隔\n",
    "U Unicode\n",
    "u 无符号整型\n",
    "M  datatime （日期时间）\n",
    "V 原始数据（void）\n",
    "f 浮点型\n",
    "O Python对象\n",
    "\n",
    "\"\"\""
   ]
  },
  {
   "cell_type": "code",
   "execution_count": 34,
   "metadata": {
    "scrolled": true
   },
   "outputs": [
    {
     "name": "stdout",
     "output_type": "stream",
     "text": [
      "[('age', '<U1')]\n",
      "[('我',) ('1',)] [('age', '<U1')]\n",
      "['我' '1']\n"
     ]
    }
   ],
   "source": [
    "#结构化数据类型\n",
    "import  numpy as np\n",
    "dt  = np.dtype([('age','U1')]) #数据类型\n",
    "print(dt)\n",
    "stu = np.array([(\"我们\"),(128)],dtype = dt)\n",
    "print(stu,stu.dtype)\n",
    "print(stu['age'])"
   ]
  },
  {
   "cell_type": "code",
   "execution_count": 35,
   "metadata": {},
   "outputs": [
    {
     "data": {
      "text/plain": [
       "'\\n三个特征：姓名 年龄 工资\\nstr 字段 name\\nint 字段 age\\nfloat 字段 salary\\n'"
      ]
     },
     "execution_count": 35,
     "metadata": {},
     "output_type": "execute_result"
    }
   ],
   "source": [
    "\"\"\"\n",
    "三个特征：姓名 年龄 工资\n",
    "\n",
    "str 字段 name\n",
    "    字段 age\n",
    "    字段 salary\n",
    "\n",
    "\"\"\"\n",
    "import numpy as np\n",
    "teacher = np.dtype([('name',np.str_,3),('age','i1'),('salary','f4')])\n",
    "a = np.array([('zxl',18,234.456),\n",
    "              ('rxr',12,7866.80)], dtype = teacher)\n",
    "print(a)\n",
    "print(a['name'])\n",
    "print(a['age'])\n",
    "print(a['salary']"
   ]
  },
  {
   "cell_type": "code",
   "execution_count": 40,
   "metadata": {},
   "outputs": [],
   "source": [
    "#操作文件\n",
    "# np.loadtxt()  shift+tab键\n",
    "\n",
    "np.loadtxt(fname,:#指定文件名或字符串。支持压缩文件，包括gz、bz格式\n",
    "           dtype=<class 'float'>,  #数据类型 默认float。\n",
    "           comments='#',#字符串或字符串组成的列表，表示注释字符集开始的标志，默认#\n",
    "           delimiter=None, #字符串。分隔符\n",
    "           converters=None, #字典\n",
    "           skiprows=0,#跳过特定列的数据转换为字典中对应的函数的浮点型数据。例如将空值转换为0，默认为空\n",
    "           usecols=None, #元组。用来指定要读取数据的列。第一列为0，例如（1,3,5）默认为空\n",
    "           unpack=False,#布尔型。 指定是否转置数组，如果为真则转置，默认为False\n",
    "           ndmin=0, #整数型。指定返回的数组至少包含特定维度的数组。值域0、1、2，默认为0\n",
    "           encoding='bytes' #编码，确认文件是gbk还是utf-8格式"
   ]
  },
  {
   "cell_type": "code",
   "execution_count": 61,
   "metadata": {
    "scrolled": true
   },
   "outputs": [
    {
     "name": "stdout",
     "output_type": "stream",
     "text": [
      "[[ 0.  1.  2.  3.  4.  5.  6.  7.  8.  9.]\n",
      " [10. 11. 12. 13. 14. 15. 16. 17. 18. 19.]\n",
      " [20. 21. 22. 23. 24. 25. 26. 27. 28. 29.]\n",
      " [30. 31. 32. 33. 34. 35. 36. 37. 38. 39.]]\n",
      "我们今天很开心\n"
     ]
    }
   ],
   "source": [
    "import numpy as np\n",
    "\n",
    "data = np.loadtxt('data1.txt')\n",
    "print(data)\n",
    "data = np.loadtxt('data1.txt',dtype='int_')#读取数字文本信息\n",
    "data1 = np.loadtxt('文字.txt',encoding = 'utf-8',dtype='str_') #读取字符串\n",
    "print(data1)"
   ]
  }
 ],
 "metadata": {
  "kernelspec": {
   "display_name": "Python 3",
   "language": "python",
   "name": "python3"
  },
  "language_info": {
   "codemirror_mode": {
    "name": "ipython",
    "version": 3
   },
   "file_extension": ".py",
   "mimetype": "text/x-python",
   "name": "python",
   "nbconvert_exporter": "python",
   "pygments_lexer": "ipython3",
   "version": "3.7.0"
  }
 },
 "nbformat": 4,
 "nbformat_minor": 2
}
