{
 "cells": [
  {
   "cell_type": "code",
   "execution_count": 1,
   "metadata": {},
   "outputs": [
    {
     "name": "stdout",
     "output_type": "stream",
     "text": [
      "[[3 7 5]\n",
      " [8 2 3]\n",
      " [2 4 9]]\n",
      "[7 8 9]\n",
      "[8 7 9]\n",
      "默认最大值 9\n",
      "行最小值 [7 8 9]\n",
      "列最小值 [8 7 9]\n",
      "4.0\n",
      "[5. 3. 4.]\n",
      "[3. 4. 5.]\n",
      "[[3. 4. 5.]]\n"
     ]
    }
   ],
   "source": [
    "\"\"\"\n",
    "统计函数 从数组中快速查询最大、最小、百分位标准差\n",
    "amin()参数：axis 1行比、0比例\n",
    "amax()\n",
    "ptp()最大值-最小值的差\n",
    "percentile() 度量，百分比1.数组2.半分比 0-100 3.axis\n",
    "median() 算数平均值\n",
    "std()标准差 sqrt(mean(x-x.mean())**2)\n",
    "    标准差是一组数组的平均值分散程度的一种度量\n",
    "var()方差mean((x-x.mean())**2)\n",
    "    平均数之差的平方的平均数\n",
    "加权平均数average（）各个数值乘以相应的权数，\n",
    "     然后总求和得到总体值，再除以总数\n",
    "     参数：weights：权重系数（可选参数，默认1）\n",
    "\"\"\"\n",
    "import numpy as np\n",
    "a = np.array([[3,7,5],[8,2,3],[2,4,9]])\n",
    "print(a)\n",
    "print(np.amax(a,axis=1)) #行最大值   行1\n",
    "print(np.amax(a,axis=0)) #列最大值   列是0\n",
    "print(\"默认最大值\",np.amax(a)) #默认最大值\n",
    "print(\"行最小值\",np.amax(a,axis=1)) #行最小值\n",
    "print(\"列最小值\",np.amax(a,axis=0)) #列最小值\n",
    "\n",
    "#百分值 50% 的分位数，a排序后的中位数\n",
    "print(np.percentile(a,50)) #百分值\n",
    "print(np.percentile(a,50,axis=1)) #行百分值\n",
    "print(np.percentile(a,50,axis=0)) #列百分值\n",
    "print(np.percentile(a,50,axis=0,keepdims=True))\n",
    "#百分值 维持数组形状保持不变\n",
    "\n"
   ]
  },
  {
   "cell_type": "code",
   "execution_count": 3,
   "metadata": {},
   "outputs": [
    {
     "name": "stdout",
     "output_type": "stream",
     "text": [
      "A组的方差为: 291.6666666666667\n",
      "B组的方差为: 4.666666666666667\n"
     ]
    },
    {
     "ename": "AttributeError",
     "evalue": "module 'numpy' has no attribute 'weights'",
     "output_type": "error",
     "traceback": [
      "\u001b[1;31m---------------------------------------------------------------------------\u001b[0m",
      "\u001b[1;31mAttributeError\u001b[0m                            Traceback (most recent call last)",
      "\u001b[1;32m<ipython-input-3-196a85d01206>\u001b[0m in \u001b[0;36m<module>\u001b[1;34m()\u001b[0m\n\u001b[0;32m      9\u001b[0m \u001b[0md\u001b[0m \u001b[1;33m=\u001b[0m \u001b[0mnp\u001b[0m\u001b[1;33m.\u001b[0m\u001b[0marray\u001b[0m\u001b[1;33m(\u001b[0m\u001b[1;33m[\u001b[0m\u001b[1;36m95\u001b[0m\u001b[1;33m,\u001b[0m\u001b[1;36m90\u001b[0m\u001b[1;33m,\u001b[0m\u001b[1;36m80\u001b[0m\u001b[1;33m]\u001b[0m\u001b[1;33m)\u001b[0m\u001b[1;33m\u001b[0m\u001b[0m\n\u001b[0;32m     10\u001b[0m \u001b[0me\u001b[0m \u001b[1;33m=\u001b[0m \u001b[1;33m[\u001b[0m\u001b[1;36m0.2\u001b[0m\u001b[1;33m,\u001b[0m\u001b[1;36m0.3\u001b[0m\u001b[1;33m,\u001b[0m\u001b[1;36m0.5\u001b[0m\u001b[1;33m]\u001b[0m\u001b[1;33m\u001b[0m\u001b[0m\n\u001b[1;32m---> 11\u001b[1;33m \u001b[0mprint\u001b[0m\u001b[1;33m(\u001b[0m\u001b[0mnp\u001b[0m\u001b[1;33m.\u001b[0m\u001b[0mweights\u001b[0m\u001b[1;33m(\u001b[0m\u001b[0mc\u001b[0m\u001b[1;33m,\u001b[0m\u001b[0mweights\u001b[0m\u001b[1;33m(\u001b[0m\u001b[0me\u001b[0m\u001b[1;33m)\u001b[0m\u001b[1;33m)\u001b[0m\u001b[1;33m)\u001b[0m\u001b[1;33m\u001b[0m\u001b[0m\n\u001b[0m\u001b[0;32m     12\u001b[0m \u001b[0mprint\u001b[0m\u001b[1;33m(\u001b[0m\u001b[0mnp\u001b[0m\u001b[1;33m.\u001b[0m\u001b[0mweights\u001b[0m\u001b[1;33m(\u001b[0m\u001b[0md\u001b[0m\u001b[1;33m,\u001b[0m\u001b[0mweights\u001b[0m\u001b[1;33m(\u001b[0m\u001b[0me\u001b[0m\u001b[1;33m)\u001b[0m\u001b[1;33m)\u001b[0m\u001b[1;33m)\u001b[0m\u001b[1;33m\u001b[0m\u001b[0m\n",
      "\u001b[1;32m~\\AppData\\Roaming\\Python\\Python37\\site-packages\\numpy\\__init__.py\u001b[0m in \u001b[0;36m__getattr__\u001b[1;34m(attr)\u001b[0m\n\u001b[0;32m    312\u001b[0m \u001b[1;33m\u001b[0m\u001b[0m\n\u001b[0;32m    313\u001b[0m             raise AttributeError(\"module {!r} has no attribute \"\n\u001b[1;32m--> 314\u001b[1;33m                                  \"{!r}\".format(__name__, attr))\n\u001b[0m\u001b[0;32m    315\u001b[0m \u001b[1;33m\u001b[0m\u001b[0m\n\u001b[0;32m    316\u001b[0m         \u001b[1;32mdef\u001b[0m \u001b[0m__dir__\u001b[0m\u001b[1;33m(\u001b[0m\u001b[1;33m)\u001b[0m\u001b[1;33m:\u001b[0m\u001b[1;33m\u001b[0m\u001b[0m\n",
      "\u001b[1;31mAttributeError\u001b[0m: module 'numpy' has no attribute 'weights'"
     ]
    }
   ],
   "source": [
    "\n",
    "import numpy as np\n",
    "a = np.array([95,85,75,65,55,45])\n",
    "b = np.array([73,72,71,69,68,67])\n",
    "print('A组的方差为:',np.var(a))\n",
    "print('B组的方差为:',np.var(b))\n",
    "\n",
    "c = np.array([80,90,95])\n",
    "d = np.array([95,90,80])\n",
    "e = [0.2,0.3,0.5]\n",
    "print(np.weights(c,weights(e)))\n",
    "print(np.weights(d,weights(e)))\n"
   ]
  },
  {
   "cell_type": "code",
   "execution_count": 1,
   "metadata": {},
   "outputs": [
    {
     "ename": "NameError",
     "evalue": "name 'a' is not defined",
     "output_type": "error",
     "traceback": [
      "\u001b[1;31m---------------------------------------------------------------------------\u001b[0m",
      "\u001b[1;31mNameError\u001b[0m                                 Traceback (most recent call last)",
      "\u001b[1;32m<ipython-input-1-aaf47f599a9e>\u001b[0m in \u001b[0;36m<module>\u001b[1;34m()\u001b[0m\n\u001b[0;32m      3\u001b[0m \u001b[1;33m\u001b[0m\u001b[0m\n\u001b[0;32m      4\u001b[0m \u001b[1;31m#中位数\u001b[0m\u001b[1;33m\u001b[0m\u001b[1;33m\u001b[0m\u001b[0m\n\u001b[1;32m----> 5\u001b[1;33m \u001b[0mprint\u001b[0m\u001b[1;33m(\u001b[0m\u001b[1;34m\"中位数\"\u001b[0m\u001b[1;33m,\u001b[0m\u001b[0mnp\u001b[0m\u001b[1;33m.\u001b[0m\u001b[0mmedian\u001b[0m\u001b[1;33m(\u001b[0m\u001b[0ma\u001b[0m\u001b[1;33m)\u001b[0m\u001b[1;33m)\u001b[0m \u001b[1;31m#中位数\u001b[0m\u001b[1;33m\u001b[0m\u001b[0m\n\u001b[0m\u001b[0;32m      6\u001b[0m \u001b[1;31m# print(\"行中位数\",np.median(a,axis=1)) #\"行中位数\u001b[0m\u001b[1;33m\u001b[0m\u001b[1;33m\u001b[0m\u001b[0m\n\u001b[0;32m      7\u001b[0m \u001b[0mprint\u001b[0m\u001b[1;33m(\u001b[0m\u001b[1;34m\"列中位数\"\u001b[0m\u001b[1;33m,\u001b[0m\u001b[0mnp\u001b[0m\u001b[1;33m.\u001b[0m\u001b[0mmedian\u001b[0m\u001b[1;33m(\u001b[0m\u001b[0ma\u001b[0m\u001b[1;33m,\u001b[0m\u001b[0maxis\u001b[0m\u001b[1;33m=\u001b[0m\u001b[1;36m0\u001b[0m\u001b[1;33m)\u001b[0m\u001b[1;33m)\u001b[0m \u001b[1;31m#\"列中位数\u001b[0m\u001b[1;33m\u001b[0m\u001b[0m\n",
      "\u001b[1;31mNameError\u001b[0m: name 'a' is not defined"
     ]
    }
   ],
   "source": [
    "import numpy as np\n",
    "\n",
    "\n",
    "#中位数\n",
    "print(\"中位数\",np.median(a)) #中位数\n",
    "# print(\"行中位数\",np.median(a,axis=1)) #\"行中位数\n",
    "print(\"列中位数\",np.median(a,axis=0)) #\"列中位数\n",
    "\n",
    "\n",
    "#平均数\n",
    "# print('平均数',np.mean(a,axis=0))\n",
    "# print('列方',np.mean(a,axis=1))\n",
    "# print('')\n",
    "\n",
    "\n",
    "#加权平均数\n",
    "# b = np.array([20,30,40])\n",
    "# print(b)\n",
    "# print('加权',np.average(b,weights=[1,2,3]))\n",
    "# print('平均数',np.mean(b))\n"
   ]
  },
  {
   "cell_type": "code",
   "execution_count": null,
   "metadata": {},
   "outputs": [],
   "source": []
  }
 ],
 "metadata": {
  "kernelspec": {
   "display_name": "Python 3",
   "language": "python",
   "name": "python3"
  },
  "language_info": {
   "codemirror_mode": {
    "name": "ipython",
    "version": 3
   },
   "file_extension": ".py",
   "mimetype": "text/x-python",
   "name": "python",
   "nbconvert_exporter": "python",
   "pygments_lexer": "ipython3",
   "version": "3.7.0"
  }
 },
 "nbformat": 4,
 "nbformat_minor": 2
}
