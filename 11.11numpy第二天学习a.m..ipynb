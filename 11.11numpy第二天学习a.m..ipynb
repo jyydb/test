{
 "cells": [
  {
   "cell_type": "code",
   "execution_count": 8,
   "metadata": {},
   "outputs": [
    {
     "name": "stdout",
     "output_type": "stream",
     "text": [
      "1.15.1\n"
     ]
    }
   ],
   "source": [
    "import numpy as np\n",
    "print(np.__version__)"
   ]
  },
  {
   "cell_type": "code",
   "execution_count": 20,
   "metadata": {},
   "outputs": [
    {
     "name": "stdout",
     "output_type": "stream",
     "text": [
      "1.15.1\n"
     ]
    }
   ],
   "source": [
    "import numpy as np\n",
    "print(np.__version__)"
   ]
  },
  {
   "cell_type": "code",
   "execution_count": 9,
   "metadata": {},
   "outputs": [
    {
     "name": "stdout",
     "output_type": "stream",
     "text": [
      "[4 5 6]\n"
     ]
    }
   ],
   "source": [
    "\"\"\"\n",
    "数组（Arrays）三维\n",
    "特点：1.array()把python的类型转换正np的nd array\n",
    "     2.转换过数组的始终数据不变\n",
    "函数：1.最大值max（）\n",
    "2.最小值min（）\n",
    "3.形状shape属性 输出结果:(6,)一维6长度\n",
    "索引和切片\n",
    "1.通过元素的下标位\n",
    "2.通过元素的start：stop\n",
    "排序\n",
    "1.sort\n",
    "2.sorted\n",
    "获取列的值\n",
    "1.[1,1]返回一个一维数组\n",
    "2.[1,np.newaxis,1] 保留数据原来的位置返回数组\n",
    "\n",
    "\"\"\"\n",
    "import numpy as np\n",
    "c = np.array([[[1,2,3],[4,5,6],[7,8,9],[1,2,3]]])\n",
    "# print(c)\n",
    "# print(c.shape)\n",
    "# # print(c.max(),c.min())\n",
    "# print(c[:][:][0])\n",
    "print(c[:][0][1])\n",
    "print(c[0][:][1])"
   ]
  },
  {
   "cell_type": "code",
   "execution_count": 12,
   "metadata": {},
   "outputs": [
    {
     "name": "stdout",
     "output_type": "stream",
     "text": [
      "[[0 0 0]\n",
      " [0 0 0]\n",
      " [0 0 0]]\n",
      "[[0. 0. 0.]\n",
      " [0. 0. 0.]\n",
      " [0. 0. 0.]]\n"
     ]
    }
   ],
   "source": [
    "\"\"\"\n",
    "参数 元组 shape\n",
    "创建数组0\n",
    "填充的多维数组 zeros（）\n",
    "默认类型：float\n",
    "dtype 可以设置元素类型 np.uint8 整数\n",
    "astype 重置数组元素类型\n",
    "创建数组1填充形状的多维数组ones\n",
    "\"\"\"\n",
    "import  numpy  as np\n",
    "z = np.zeros((3,3),dtype=np.uint8) #全部为0，类型是整型\n",
    "print(z)\n",
    "f = z.astype(np.float64)#类型是浮点型\n",
    "print(f)\n",
    "one = np.ones((3,3),dtype=np.unit8) #全部为1，类型是整型\n",
    "print(one)"
   ]
  },
  {
   "cell_type": "code",
   "execution_count": 14,
   "metadata": {},
   "outputs": [
    {
     "name": "stdout",
     "output_type": "stream",
     "text": [
      "D:\\study\n"
     ]
    }
   ],
   "source": [
    "\"查看文件位置\"\n",
    "import os \n",
    "print(os.path.abspath('.'))\n"
   ]
  },
  {
   "cell_type": "code",
   "execution_count": 17,
   "metadata": {},
   "outputs": [
    {
     "name": "stdout",
     "output_type": "stream",
     "text": [
      "[3 3 3 4 4 4 5 5 5]\n"
     ]
    }
   ],
   "source": [
    "\"\"\"\n",
    "repeat() 重复元素 1.元素 2,.重复次数\n",
    "\"\"\"\n",
    "import numpy as np\n",
    "\n",
    "f = np.repeat((3,4,5),3)\n",
    "print(f)"
   ]
  },
  {
   "cell_type": "code",
   "execution_count": 19,
   "metadata": {},
   "outputs": [
    {
     "name": "stdout",
     "output_type": "stream",
     "text": [
      "[ 10  40  90 160]\n",
      "[[ 2  4  6]\n",
      " [11 12 13]\n",
      " [21 22 23]\n",
      " [31 32 33]]\n"
     ]
    }
   ],
   "source": [
    "\"\"\"\n",
    "广播(Broadcasting)\n",
    "广播是一种强大的机制，它允许numpy在执行算术运算时使用\n",
    "不同形状的数组\n",
    "s.shape = b.shape 形状相同\n",
    "\n",
    "\"\"\"\n",
    "import numpy as np\n",
    "#形状相同\n",
    "a = np.array([1,2,3,4])\n",
    "b = np.array([10,20,30,40])\n",
    "c = a*b\n",
    "print(c)\n",
    "\n",
    "#形状不同\n",
    "num1 = np.array([[1,2,3],[10,10,10],[20,20,20],[30,30,30]])\n",
    "num2 = np.array([1,2,3])\n",
    "num3 = num1 + num2\n",
    "print(num3)"
   ]
  },
  {
   "cell_type": "code",
   "execution_count": null,
   "metadata": {},
   "outputs": [],
   "source": []
  }
 ],
 "metadata": {
  "kernelspec": {
   "display_name": "Python 3",
   "language": "python",
   "name": "python3"
  },
  "language_info": {
   "codemirror_mode": {
    "name": "ipython",
    "version": 3
   },
   "file_extension": ".py",
   "mimetype": "text/x-python",
   "name": "python",
   "nbconvert_exporter": "python",
   "pygments_lexer": "ipython3",
   "version": "3.7.0"
  }
 },
 "nbformat": 4,
 "nbformat_minor": 2
}
